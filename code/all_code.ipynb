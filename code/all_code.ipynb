{
  "nbformat": 4,
  "nbformat_minor": 0,
  "metadata": {
    "colab": {
      "name": "Final_proj.ipynb",
      "provenance": [],
      "collapsed_sections": []
    },
    "kernelspec": {
      "name": "python3",
      "display_name": "Python 3"
    },
    "accelerator": "GPU"
  },
  "cells": [
    {
      "cell_type": "code",
      "metadata": {
        "id": "tDehtgTxC7Ff",
        "colab_type": "code",
        "colab": {
          "base_uri": "https://localhost:8080/",
          "height": 524
        },
        "outputId": "147c821f-c2c9-4c3b-d39c-325e326212dc"
      },
      "source": [
        "from google.colab import drive\n",
        "drive.mount('/content/drive', force_remount=True)\n",
        "!unzip \"/content/drive/My Drive/data.zip\"\n"
      ],
      "execution_count": 1,
      "outputs": [
        {
          "output_type": "stream",
          "text": [
            "Go to this URL in a browser: https://accounts.google.com/o/oauth2/auth?client_id=947318989803-6bn6qk8qdgf4n4g3pfee6491hc0brc4i.apps.googleusercontent.com&redirect_uri=urn%3aietf%3awg%3aoauth%3a2.0%3aoob&scope=email%20https%3a%2f%2fwww.googleapis.com%2fauth%2fdocs.test%20https%3a%2f%2fwww.googleapis.com%2fauth%2fdrive%20https%3a%2f%2fwww.googleapis.com%2fauth%2fdrive.photos.readonly%20https%3a%2f%2fwww.googleapis.com%2fauth%2fpeopleapi.readonly&response_type=code\n",
            "\n",
            "Enter your authorization code:\n",
            "··········\n",
            "Mounted at /content/drive\n",
            "Archive:  /content/drive/My Drive/data.zip\n",
            "   creating: data/davis/\n",
            "  inflating: data/davis/drug-drug_similarities_2D.txt  \n",
            "  inflating: data/davis/drug-target_interaction_affinities_Kd__Davis_et_al.2011v1.txt  \n",
            "   creating: data/davis/folds/\n",
            "  inflating: data/davis/folds/test_fold_setting1.txt  \n",
            "  inflating: data/davis/folds/train_fold_setting1.txt  \n",
            "  inflating: data/davis/ligands_can.txt  \n",
            "  inflating: data/davis/ligands_iso.txt  \n",
            "  inflating: data/davis/proteins.txt  \n",
            "  inflating: data/davis/target-target_similarities_WS.txt  \n",
            "  inflating: data/davis/Y            \n",
            "   creating: data/kiba/\n",
            "   creating: data/kiba/folds/\n",
            "  inflating: data/kiba/folds/test_fold_setting1.txt  \n",
            "  inflating: data/kiba/folds/train_fold_setting1.txt  \n",
            "  inflating: data/kiba/kiba_binding_affinity_v2.txt  \n",
            "  inflating: data/kiba/kiba_drug_sim.txt  \n",
            "  inflating: data/kiba/kiba_target_sim.txt  \n",
            "  inflating: data/kiba/ligands_can.txt  \n",
            "  inflating: data/kiba/ligands_iso.txt  \n",
            "  inflating: data/kiba/proteins.txt  \n",
            "  inflating: data/kiba/Y             \n",
            "  inflating: data/README.md          \n"
          ],
          "name": "stdout"
        }
      ]
    },
    {
      "cell_type": "code",
      "metadata": {
        "id": "ii0gHFsoG-h6",
        "colab_type": "code",
        "colab": {}
      },
      "source": [
        "import pandas as pd\n",
        "import pickle\n",
        "import numpy as np\n",
        "import matplotlib.pyplot as plt\n",
        "import json\n",
        "import torch\n",
        "from torch.autograd import Variable\n",
        "from torch.nn import Linear, ReLU, CrossEntropyLoss, Sequential, Conv1d, MaxPool1d, Module, Softmax, BatchNorm1d, Dropout, Tanh\n",
        "from torch.optim import Adam, SGD\n",
        "import torch\n",
        "import torch.nn as nn\n",
        "import torch.nn.functional as F\n",
        "import torch.optim as optim\n",
        "from torch.utils.data import Dataset, DataLoader\n",
        "from tqdm.auto import tqdm, trange\n",
        "from sklearn.metrics import roc_auc_score\n",
        "from sklearn.metrics import classification_report\n",
        "import math\n",
        "\n"
      ],
      "execution_count": 2,
      "outputs": []
    },
    {
      "cell_type": "code",
      "metadata": {
        "id": "czCrUYFe1eOt",
        "colab_type": "code",
        "colab": {
          "base_uri": "https://localhost:8080/",
          "height": 34
        },
        "outputId": "8122f77b-d07e-41b5-e184-7278da2a238c"
      },
      "source": [
        "if torch.cuda.is_available():\n",
        "    device = torch.device(\"cuda:0\")\n",
        "    print(\"Running on the GPU\")\n",
        "else:\n",
        "  device = torch.device(\"cpu\")\n",
        "  print(\"Running on the CPU\")"
      ],
      "execution_count": 68,
      "outputs": [
        {
          "output_type": "stream",
          "text": [
            "Running on the GPU\n"
          ],
          "name": "stdout"
        }
      ]
    },
    {
      "cell_type": "code",
      "metadata": {
        "id": "F3UTgmoWXmOe",
        "colab_type": "code",
        "colab": {
          "base_uri": "https://localhost:8080/",
          "height": 34
        },
        "outputId": "447f80ef-5cf5-44b4-ac11-8e8374657a90"
      },
      "source": [
        "DATASET = 'davis'\n",
        "\n",
        "def pre_process_SMILE(mode):\n",
        "\n",
        "  final_SMILES = []\n",
        "  char_num = {}\n",
        "  SMILES_length = 0\n",
        "  if mode == 'kiba':\n",
        "    SMILES_length = 100\n",
        "  if mode == 'davis':\n",
        "    SMILES_length = 95\n",
        "\n",
        "  with open(\"/content/data/\"+DATASET+\"/ligands_iso.txt\") as fp:\n",
        "    line = fp.readline()\n",
        "    SMILES = line.split(\",\")\n",
        "    final_SMILES = [j.replace('\"',\"\") for j in [k.replace(' ','') for k in [i.split(\":\")[1] for i in SMILES]]]\n",
        "    final_SMILES[-1] = final_SMILES[-1].replace(\"}\",\"\")\n",
        "  unique_set = list(set([j for i in final_SMILES for j in i]))\n",
        "  for n, i in enumerate(unique_set):\n",
        "    char_num[i] = n + 1\n",
        "  pre_procesed_SMILES = []\n",
        "  for i in final_SMILES:\n",
        "    x = []\n",
        "    for j in i:\n",
        "      x.append(char_num[j])\n",
        "    if len(x) > SMILES_length:\n",
        "      x = x[:SMILES_length]\n",
        "    elif len(x) < SMILES_length:\n",
        "      for j in range(SMILES_length - len(x)):\n",
        "        x.append(0)\n",
        "\n",
        "    pre_procesed_SMILES.append(x)\n",
        "  return pre_procesed_SMILES\n",
        "\n",
        "pre_procesed_SMILES = pre_process_SMILE(DATASET)\n",
        "print(len(pre_procesed_SMILES))\n"
      ],
      "execution_count": 109,
      "outputs": [
        {
          "output_type": "stream",
          "text": [
            "68\n"
          ],
          "name": "stdout"
        }
      ]
    },
    {
      "cell_type": "code",
      "metadata": {
        "id": "Bs579JccplVj",
        "colab_type": "code",
        "colab": {
          "base_uri": "https://localhost:8080/",
          "height": 34
        },
        "outputId": "0575e845-e900-492f-a75b-7f484c5d9431"
      },
      "source": [
        "def pre_process_proteins(mode):\n",
        "  char_num = {}\n",
        "  proteins_length = 0\n",
        "  word_length = 3\n",
        "  if mode == 'kiba':\n",
        "    proteins_length = 450\n",
        "  if mode == 'davis':\n",
        "    proteins_length = 450\n",
        "\n",
        "  with open(\"/content/data/\"+DATASET+\"/proteins.txt\") as fp:\n",
        "    line = fp.readline()\n",
        "    proteins = line.split(\",\")\n",
        "    final_proteins = [j.replace('\"',\"\") for j in [k.replace(' ','') for k in [i.split(\":\")[1] for i in proteins]]]\n",
        "    final_proteins[-1] = final_proteins[-1].replace(\"}\",\"\")\n",
        "    print(\"number of proteins :\", len(final_proteins))\n",
        "\n",
        "  unique_word = {}\n",
        "  for protein in final_proteins:\n",
        "    for n in range(0,(len(protein)-word_length+1),word_length):\n",
        "      if protein[n:n+word_length] not in unique_word:\n",
        "        unique_word[protein[n:n+word_length]] = 1\n",
        "      else:\n",
        "        unique_word[protein[n:n+word_length]]+=1\n",
        "\n",
        "  unique_word = {k: v for k, v in sorted(unique_word.items(), key=lambda item: item[1])}\n",
        "  word_num = {}\n",
        "  for n, i in enumerate(list(unique_word)):\n",
        "    word_num[i] = n + 1\n",
        "  \n",
        "  pre_procesed_proteins = []\n",
        "  length = []\n",
        "  for protein in final_proteins:\n",
        "    x = []\n",
        "    for n in range(0,(len(protein)-word_length+1),word_length):\n",
        "      x.append(word_num[protein[n:n+word_length]])\n",
        "    length.append(len(x))\n",
        "    if len(x) > proteins_length:\n",
        "      x = x[:proteins_length]\n",
        "    elif len(x) < proteins_length:\n",
        "      for j in range(proteins_length - len(x)):\n",
        "        x.append(0)\n",
        "    pre_procesed_proteins.append(x)\n",
        "  return pre_procesed_proteins, length\n",
        "\n",
        "\n",
        "def check_good_length(length):\n",
        "  plt.hist(length, len(length))\n",
        "  plt.show()\n",
        "  selected = []\n",
        "  for i in length:\n",
        "    if i <= 450:\n",
        "      selected.append(i)\n",
        "  if len(selected)/len(length) > 0.85:\n",
        "    print(len(selected)/len(length),\"good\")\n",
        "\n",
        "pre_procesed_proteins, length = pre_process_proteins(DATASET)\n",
        "\n",
        "\n",
        "  "
      ],
      "execution_count": 110,
      "outputs": [
        {
          "output_type": "stream",
          "text": [
            "number of proteins : 442\n"
          ],
          "name": "stdout"
        }
      ]
    },
    {
      "cell_type": "code",
      "metadata": {
        "id": "8B5czMzFYj9P",
        "colab_type": "code",
        "colab": {}
      },
      "source": [
        "class data(Dataset):\n",
        "  def __init__(self, data, y):\n",
        "    self.y = pd.DataFrame(y)\n",
        "    self.data = pd.DataFrame(data)\n",
        "\n",
        "  def __getitem__(self, index):\n",
        "    \n",
        "    data = np.array(self.data.loc[index])\n",
        "    label = np.array(self.y.loc[index])\n",
        "    sample = (data ,label)\n",
        "    return sample\n",
        "\n",
        "  def __len__(self):\n",
        "    self.len = self.data.shape\n",
        "    return len(self.data)\n",
        "import random\n",
        "\n",
        "def over_under_sampling(major_part_indices, under_rate, minor_class_index, over_rate, middle_class_index, middle_rate):\n",
        "  \n",
        "  index_value = random.sample(major_part_indices,int(len(major_part_indices)/under_rate ))\n",
        "  x = []\n",
        "  for i in range(over_rate):\n",
        "    x+=minor_class_index\n",
        "  x1 = []\n",
        "  for i in range(middle_rate):\n",
        "    x1+=middle_class_index\n",
        "  \n",
        "  return index_value+x+x1\n",
        "\n",
        "batch_size = 256\n",
        "\n",
        "label = pickle.load(open(\"/content/data/\"+DATASET+\"/Y\", \"rb\"), encoding='latin1')\n",
        "label_f_no_log = label[~np.isnan(label)]\n",
        "if DATASET == \"davis\":\n",
        "  label_f = -(np.log10(label_f_no_log/(math.pow(10,9))+0.00000001))\n",
        "if DATASET == 'kiba':\n",
        "  label_f = label_f_no_log\n",
        "label_row_inds, label_col_inds = np.where(np.isnan(label)==False)\n",
        "test_fold = json.load(open(\"/content/data/\"+DATASET+\"/folds/test_fold_setting1.txt\"))\n",
        "train_fold = json.load(open(\"/content/data/\"+DATASET+\"/folds/train_fold_setting1.txt\"))\n",
        "\n",
        "validation_fold = train_fold[4]\n",
        "train_fold = [j for i in train_fold[:4] for j in i ]\n",
        "major_class_index = []  \n",
        "minor_class_index = []\n",
        "middle_class_index = []  \n",
        "train_y = []\n",
        "if DATASET == 'davis':\n",
        "  for i in train_fold:\n",
        "    if 4.9 <= label_f[i] <= 5.1:\n",
        "      major_class_index.append(i)  \n",
        "    else:\n",
        "      if  5.1 < label_f[i] < 7:\n",
        "        middle_class_index.append(i)\n",
        "      else:\n",
        "        minor_class_index.append(i)\n",
        "  new_train_fold = over_under_sampling(major_class_index,3,minor_class_index, 6, middle_class_index, 1)\n",
        "if DATASET == 'kiba':\n",
        "  new_train_fold = train_fold\n",
        "\n",
        "\n",
        "train_drug_indices = label_row_inds[new_train_fold]\n",
        "train_protein_indices = label_col_inds[new_train_fold]\n",
        "test_drug_indices = label_row_inds[test_fold]\n",
        "test_protein_indices = label_col_inds[test_fold]\n",
        "validation_drug_indices = label_row_inds[validation_fold]\n",
        "validation_protein_indices = label_col_inds[validation_fold]\n",
        "\n",
        "smile_train_data = []\n",
        "for i in train_drug_indices:\n",
        "  smile_train_data.append(pre_procesed_SMILES[i])\n",
        "\n",
        "protein_train_data = []\n",
        "for i in train_protein_indices:\n",
        "  protein_train_data.append(pre_procesed_proteins[i])\n",
        "\n",
        "smile_test_data = []\n",
        "for i in test_drug_indices:\n",
        "  smile_test_data.append(pre_procesed_SMILES[i])\n",
        "\n",
        "protein_test_data = []\n",
        "for i in test_protein_indices:\n",
        "  protein_test_data.append(pre_procesed_proteins[i])\n",
        "\n",
        "smile_validation_data = []\n",
        "for i in validation_drug_indices:\n",
        "  smile_validation_data.append(pre_procesed_SMILES[i])\n",
        "\n",
        "protein_validation_data = []\n",
        "for i in validation_protein_indices:\n",
        "  protein_validation_data.append(pre_procesed_proteins[i])\n",
        "  \n",
        "train_y = []\n",
        "for i in new_train_fold:\n",
        "  train_y.append(label_f[i])\n",
        "\n",
        "test_y = []\n",
        "for i in test_fold:\n",
        "  test_y.append(label_f[i])\n",
        "\n",
        "validation_y = []\n",
        "for i in validation_fold:\n",
        "  validation_y.append(label_f[i])\n",
        "  \n",
        "train_set_p = data(protein_train_data, train_y)\n",
        "train_loader_p = DataLoader(dataset=train_set_p,\n",
        "                          batch_size=batch_size,\n",
        "                          shuffle=True,\n",
        "                          drop_last=True)\n",
        "\n",
        "train_set_s = data(smile_train_data, train_y)\n",
        "train_loader_s = DataLoader(dataset=train_set_s,\n",
        "                          batch_size=batch_size,\n",
        "                          shuffle=True,\n",
        "                          drop_last=True)\n",
        "\n",
        "\n",
        "test_set_p = data(protein_test_data, test_y)\n",
        "test_loader_p = DataLoader(dataset=test_set_p,\n",
        "                        batch_size=batch_size,\n",
        "                         shuffle=True,\n",
        "                         drop_last=True)\n",
        "\n",
        "test_set_s = data(smile_test_data, test_y)\n",
        "test_loader_s = DataLoader(dataset=test_set_s,\n",
        "                        batch_size=batch_size,\n",
        "                         shuffle=True,\n",
        "                         drop_last=True)  \n",
        "\n",
        "\n",
        "validation_set_p = data(protein_validation_data, validation_y)\n",
        "validation_loader_p = DataLoader(dataset=validation_set_p,\n",
        "                         batch_size=batch_size,\n",
        "                         shuffle=True,\n",
        "                         drop_last=True)\n",
        "\n",
        "validation_set_s = data(smile_validation_data, validation_y)\n",
        "validation_loader_s = DataLoader(dataset=validation_set_s,\n",
        "                        batch_size=batch_size,\n",
        "                         shuffle=True,\n",
        "                         drop_last=True)  \n"
      ],
      "execution_count": 111,
      "outputs": []
    },
    {
      "cell_type": "code",
      "metadata": {
        "id": "gderbgQeWIZX",
        "colab_type": "code",
        "colab": {}
      },
      "source": [
        "class CNN(nn.Module):\n",
        "  def __init__(self):\n",
        "      super(CNN, self).__init__()\n",
        "\n",
        "      self.cnn_layers = Sequential(\n",
        "          Conv1d(1, 32, kernel_size=4, stride=2, padding=0),\n",
        "          BatchNorm1d(32),\n",
        "          ReLU(inplace=True),\n",
        "          Conv1d(32, 64, kernel_size=8, stride=2, padding=0),\n",
        "          ReLU(inplace=True),\n",
        "          MaxPool1d(3, stride=2), \n",
        "              \n",
        "      )\n",
        "    \n",
        "  def forward(self, x):\n",
        "    x = x.float()\n",
        "    x = self.cnn_layers(x)\n",
        "    x = x.view(x.size(0), -1)\n",
        "    return x\n",
        "\n",
        "class CNN2(nn.Module):\n",
        "  def __init__(self):\n",
        "      super(CNN2, self).__init__()\n",
        "\n",
        "      self.cnn_layers = Sequential(\n",
        "          Conv1d(1, 32, kernel_size=4, stride=2, padding=0),\n",
        "          BatchNorm1d(32),\n",
        "          ReLU(inplace=True),\n",
        "          Conv1d(32, 64, kernel_size=8, stride=2, padding=0),\n",
        "          BatchNorm1d(64),\n",
        "          ReLU(inplace=True),\n",
        "          Conv1d(64, 96, kernel_size=12, stride=2, padding=0),\n",
        "          ReLU(inplace=True),\n",
        "          MaxPool1d(4, stride=3), \n",
        "              \n",
        "      )\n",
        "      self.relu = nn.ReLU()\n",
        "      \n",
        "  \n",
        "  def forward(self, x):\n",
        "    x = x.float()\n",
        "    x = self.cnn_layers(x)\n",
        "    x = x.view(x.size(0), -1)\n",
        "    return x\n",
        "\n",
        "\n",
        "class MyModel(nn.Module):\n",
        "\n",
        "    def __init__(self):\n",
        "        super(MyModel, self).__init__()\n",
        "        self.input_dim = 1\n",
        "        self.hidden_dim = 256\n",
        "        self.target_dim = 1\n",
        "        self.batch_size = 256\n",
        "        self.p_len = 450\n",
        "        \n",
        "        if DATASET == \"davis\":\n",
        "          self.input_n = 576\n",
        "          self.s_len = 95\n",
        "        if DATASET == \"kiba\":\n",
        "          self.input_n = 640\n",
        "          self.s_len = 100\n",
        "          \n",
        "        self.cnn = CNN()\n",
        "        self.cnn2 = CNN2()\n",
        "        self.lstm = nn.LSTM(self.input_dim, self.hidden_dim, batch_first = True, num_layers = 1) \n",
        "        #384 448    \n",
        "        self.linear1 = nn.Linear(self.input_n + self.hidden_dim,1024)\n",
        "        self.linear2 = nn.Linear(1024, 512)\n",
        "        self.linear3 = nn.Linear(512, 1)\n",
        "        self.relu = nn.ReLU()\n",
        "        self.dropout = Dropout(0.1)\n",
        "        \n",
        "    def forward(self, x1, x2):\n",
        "       \n",
        "        h0 = torch.zeros(1, self.batch_size, self.hidden_dim).requires_grad_()\n",
        "        h0 = h0.to(device)\n",
        "        c0 = torch.zeros(1, self.batch_size, self.hidden_dim).requires_grad_()\n",
        "        c0 = c0.to(device)\n",
        "\n",
        "        x1 = x1.float()\n",
        "        x2 = x2.float()\n",
        "\n",
        "        c_in = x2.view(self.batch_size, 1, self.s_len)\n",
        "        SMILEs = self.cnn(c_in)\n",
        "\n",
        "        c_in_2 = x1.view(self.batch_size, 1, self.p_len)\n",
        "        pre_proteins = self.cnn2(c_in_2)    \n",
        "        lstm_in = pre_proteins.view(len(x1), 1536, -1)\n",
        "        proteins, (hn, cn) = self.lstm(lstm_in, (h0.detach(), c0.detach()))\n",
        "       \n",
        "        proteins = proteins[:,-1,:]\n",
        "        concatination = torch.cat((SMILEs, proteins), 1)\n",
        "        out1 = self.linear1(concatination)\n",
        "        relu_out1 = self.relu(out1)\n",
        "        relu_out1 = self.dropout(relu_out1)\n",
        "        out2 = self.linear2(relu_out1)\n",
        "        relu_out2 = self.relu(out2)\n",
        "        relu_out2 = self.dropout(relu_out2)\n",
        "        y_pred = self.linear3(relu_out2)\n",
        "\n",
        "        \n",
        "        return y_pred\n",
        "\n"
      ],
      "execution_count": 112,
      "outputs": []
    },
    {
      "cell_type": "code",
      "metadata": {
        "id": "XvWiegkZODIL",
        "colab_type": "code",
        "colab": {
          "base_uri": "https://localhost:8080/",
          "height": 554
        },
        "outputId": "f9be760a-d0e4-4c46-f28d-239b9f126f07"
      },
      "source": [
        "\n",
        "def weighted_mse_loss(input, target, weight):\n",
        "    return torch.mean(torch.matmul(weight, (input - target)**2))\n",
        "\n",
        "final_model = MyModel()\n",
        "final_model = final_model.to(device)\n",
        "print(final_model)\n",
        "if DATASET == 'davis':\n",
        "  criterion = nn.MSELoss()\n",
        "  criterion.to(device)\n",
        "if DATASET == 'kiba':\n",
        "  criterion = weighted_mse_loss\n",
        "\n",
        "optimizer = torch.optim.AdamW(final_model.parameters(), lr = 0.0001)"
      ],
      "execution_count": 115,
      "outputs": [
        {
          "output_type": "stream",
          "text": [
            "MyModel(\n",
            "  (cnn): CNN(\n",
            "    (cnn_layers): Sequential(\n",
            "      (0): Conv1d(1, 32, kernel_size=(4,), stride=(2,))\n",
            "      (1): BatchNorm1d(32, eps=1e-05, momentum=0.1, affine=True, track_running_stats=True)\n",
            "      (2): ReLU(inplace=True)\n",
            "      (3): Conv1d(32, 64, kernel_size=(8,), stride=(2,))\n",
            "      (4): ReLU(inplace=True)\n",
            "      (5): MaxPool1d(kernel_size=3, stride=2, padding=0, dilation=1, ceil_mode=False)\n",
            "    )\n",
            "  )\n",
            "  (cnn2): CNN2(\n",
            "    (cnn_layers): Sequential(\n",
            "      (0): Conv1d(1, 32, kernel_size=(4,), stride=(2,))\n",
            "      (1): BatchNorm1d(32, eps=1e-05, momentum=0.1, affine=True, track_running_stats=True)\n",
            "      (2): ReLU(inplace=True)\n",
            "      (3): Conv1d(32, 64, kernel_size=(8,), stride=(2,))\n",
            "      (4): BatchNorm1d(64, eps=1e-05, momentum=0.1, affine=True, track_running_stats=True)\n",
            "      (5): ReLU(inplace=True)\n",
            "      (6): Conv1d(64, 96, kernel_size=(12,), stride=(2,))\n",
            "      (7): ReLU(inplace=True)\n",
            "      (8): MaxPool1d(kernel_size=4, stride=3, padding=0, dilation=1, ceil_mode=False)\n",
            "    )\n",
            "    (relu): ReLU()\n",
            "  )\n",
            "  (lstm): LSTM(1, 256, batch_first=True)\n",
            "  (linear1): Linear(in_features=832, out_features=1024, bias=True)\n",
            "  (linear2): Linear(in_features=1024, out_features=512, bias=True)\n",
            "  (linear3): Linear(in_features=512, out_features=1, bias=True)\n",
            "  (relu): ReLU()\n",
            "  (dropout): Dropout(p=0.1, inplace=False)\n",
            ")\n"
          ],
          "name": "stdout"
        }
      ]
    },
    {
      "cell_type": "code",
      "metadata": {
        "id": "84EJQ-MQOYMW",
        "colab_type": "code",
        "colab": {
          "base_uri": "https://localhost:8080/",
          "height": 286
        },
        "outputId": "705d7759-533a-4783-d63d-0cba6ba2dbec"
      },
      "source": [
        "epoch_num = 15\n",
        "\n",
        "train_log = []\n",
        "val_log = []\n",
        "x = 0\n",
        "\n",
        "for epoch in range(1, epoch_num+1):\n",
        "  train_loss = []\n",
        "  val_loss = []\n",
        "  final_model.train()\n",
        "  for batch_idx1, ((datap, target), (datas, target)) in enumerate(zip(train_loader_p, train_loader_s)):  \n",
        "    datap = datap.to(device)\n",
        "    datas = datas.to(device)\n",
        "    target = target.float()\n",
        "    target = target.to(device)\n",
        "    optimizer.zero_grad()\n",
        "    output = final_model(datap,datas)\n",
        "    w = []\n",
        "    for i in target:\n",
        "      if 11 <= i <= 12.5:\n",
        "        w.append(0.8)\n",
        "      else:\n",
        "        w.append(1.2) \n",
        "    w = Variable(torch.FloatTensor(w), requires_grad = True).to(device)\n",
        "    if DATASET == 'davis':\n",
        "      loss = criterion(output, target)\n",
        "    if DATASET == 'kiba':\n",
        "      loss = criterion(output, target,w)\n",
        "    loss.backward()                \n",
        "    optimizer.step() \n",
        "    train_loss.append(loss.item()) \n",
        "  print('>> Epoch: ',epoch,\">> Train loss: \",np.mean(train_loss))\n",
        "  train_log.append(np.mean(train_loss))\n",
        " \n",
        "for batch_idx1, ((datap, target), (datas, target)) in enumerate(zip(validation_loader_p, validation_loader_s)):  \n",
        "  datap = datap.to(device)\n",
        "  datas = datas.to(device)\n",
        "  target = target.float()\n",
        "  target = target.to(device)\n",
        "  output = final_model(datap,datas)\n",
        "  if DATASET == 'davis':\n",
        "      loss = criterion(output, target)\n",
        "  if DATASET == 'kiba':\n",
        "    loss = criterion(output, target,w)\n",
        "  val_loss.append(loss.item()) \n",
        "print(\">> Validation loss: \",np.mean(val_loss))\n",
        "val_log.append(np.mean(val_loss))\n"
      ],
      "execution_count": 116,
      "outputs": [
        {
          "output_type": "stream",
          "text": [
            ">> Epoch:  1 >> Train loss:  9.536286131976402\n",
            ">> Epoch:  2 >> Train loss:  1.3117984516979897\n",
            ">> Epoch:  3 >> Train loss:  1.2100816671162435\n",
            ">> Epoch:  4 >> Train loss:  1.1256956025345686\n",
            ">> Epoch:  5 >> Train loss:  1.0643657045821622\n",
            ">> Epoch:  6 >> Train loss:  1.028726242176474\n",
            ">> Epoch:  7 >> Train loss:  1.0077253163677373\n",
            ">> Epoch:  8 >> Train loss:  1.0016438013886753\n",
            ">> Epoch:  9 >> Train loss:  0.9978334119875137\n",
            ">> Epoch:  10 >> Train loss:  0.9940990152424329\n",
            ">> Epoch:  11 >> Train loss:  0.9953964589393303\n",
            ">> Epoch:  12 >> Train loss:  0.9899729180009398\n",
            ">> Epoch:  13 >> Train loss:  0.9847485153642419\n",
            ">> Epoch:  14 >> Train loss:  0.9924592914646619\n",
            ">> Epoch:  15 >> Train loss:  0.9867014754308413\n",
            ">> Validation loss:  1.1038782439733807\n"
          ],
          "name": "stdout"
        }
      ]
    },
    {
      "cell_type": "code",
      "metadata": {
        "id": "qxH3wUihkYb0",
        "colab_type": "code",
        "colab": {
          "base_uri": "https://localhost:8080/",
          "height": 67
        },
        "outputId": "eafc850a-081b-486b-9198-32a774f6f3c7"
      },
      "source": [
        "y_true = []\n",
        "y_pred = []\n",
        "\n",
        "\n",
        "with torch.no_grad():\n",
        "    final_model.eval()\n",
        "    for batch_idx1, ((datap, labels), (datas, labels)) in enumerate(zip(test_loader_p, test_loader_s)):  \n",
        "        datap = datap.to(device)\n",
        "        datas = datas.to(device)\n",
        "        target = target.float()\n",
        "        target = target.to(device)      \n",
        "        outputs = final_model(datap, datas) \n",
        "        y_true += labels.tolist()\n",
        "        y_pred += outputs.tolist()\n",
        "y_true = np.array(y_true)\n",
        "y_pred = np.array(y_pred)\n",
        "print(len(y_true))\n",
        "print(len(y_pred))\n",
        "mse = np.square(np.subtract(y_true,y_pred)).mean() \n",
        "print('MSE: ', mse)\n"
      ],
      "execution_count": 117,
      "outputs": [
        {
          "output_type": "stream",
          "text": [
            "4864\n",
            "4864\n",
            "MSE:  1.0954824523253428\n"
          ],
          "name": "stdout"
        }
      ]
    },
    {
      "cell_type": "code",
      "metadata": {
        "id": "C0amGsbUmxP8",
        "colab_type": "code",
        "colab": {
          "base_uri": "https://localhost:8080/",
          "height": 34
        },
        "outputId": "46cc154d-99e3-4001-f758-a6540076cc6c"
      },
      "source": [
        "def get_cindex(Y, P):\n",
        "    summ = 0\n",
        "    pair = 0\n",
        "    \n",
        "    for i in range(1, len(Y)):\n",
        "        for j in range(0, i):\n",
        "            if i is not j:\n",
        "                if(Y[i] > Y[j]):\n",
        "                    pair +=1\n",
        "                    summ +=  1* (P[i] > P[j]) + 0.5 * (P[i] == P[j])\n",
        "        \n",
        "            \n",
        "    if pair is not 0:\n",
        "        return summ/pair\n",
        "    else:\n",
        "        return 0\n",
        "\n",
        "CI = get_cindex(y_true, y_pred)\n",
        "print(\"CI: \",CI)"
      ],
      "execution_count": 53,
      "outputs": [
        {
          "output_type": "stream",
          "text": [
            "CI:  [0.72238992]\n"
          ],
          "name": "stdout"
        }
      ]
    },
    {
      "cell_type": "code",
      "metadata": {
        "id": "FoUsliKthcsl",
        "colab_type": "code",
        "colab": {
          "base_uri": "https://localhost:8080/",
          "height": 121
        },
        "outputId": "351c6969-86aa-43e4-dcf9-cc496520dde1"
      },
      "source": [
        "from sklearn.metrics import f1_score, precision_recall_fscore_support\n",
        "def confusion_matrix(y_true, y_pred):\n",
        "  TP, TN, FP, FN = 0, 0, 0, 0\n",
        "  for i,j in zip(y_true, y_pred):\n",
        "    if i == j == 1:\n",
        "      TP+=1\n",
        "    if i == j == 0:\n",
        "      TN+=1\n",
        "    if i == 0 and j == 1:\n",
        "      FP+=1\n",
        "    if i == 1 and j == 0:\n",
        "      FN+=1\n",
        "  return TP, TN, FP, FN\n",
        "\n",
        "if DATASET == 'davis':\n",
        "  y_true_classification = [1 if i>=7 else 0 for i in y_true]\n",
        "  y_pred_classification = [1 if i>=7 else 0 for i in y_pred]\n",
        "\n",
        "if DATASET == 'kiba':\n",
        "  y_true_classification = [1 if i>=12.1 else 0 for i in y_true]\n",
        "  y_pred_classification = [1 if i>=12.1 else 0 for i in y_pred]\n",
        "\n",
        "print(len(y_true_classification))\n",
        "print(len(y_pred_classification))\n",
        "\n",
        "f1_score = f1_score(y_true_classification, y_pred_classification)\n",
        "a = precision_recall_fscore_support(y_true_classification, y_pred_classification, average='macro')\n",
        "precision = a[0]\n",
        "recall = a[1]\n",
        "TP, TN, FP, FN = confusion_matrix(y_true_classification, y_pred_classification)\n",
        "print(TP, TN, FP, FN)\n",
        "sensitivity = TP/(TP+ FN)\n",
        "specifity = TN/( TN + FP )\n",
        "acc = (TP + TN) / (TP + TN + FP + FN)\n",
        "print(sensitivity, specifity, acc, f1_score)\n",
        "print(y_pred_classification)\n"
      ],
      "execution_count": 118,
      "outputs": [
        {
          "output_type": "stream",
          "text": [
            "4864\n",
            "4864\n",
            "153 4066 412 233\n",
            "0.3963730569948187 0.9079946404644931 0.8673930921052632 0.3217665615141956\n",
            "[0, 0, 0, 0, 0, 1, 0, 0, 0, 0, 1, 0, 0, 0, 0, 0, 0, 0, 0, 0, 0, 0, 0, 0, 0, 0, 0, 0, 0, 0, 0, 0, 0, 0, 0, 0, 0, 1, 1, 0, 0, 0, 0, 0, 0, 0, 0, 0, 0, 1, 0, 0, 0, 0, 0, 0, 0, 0, 0, 0, 0, 0, 0, 0, 0, 0, 0, 0, 0, 1, 0, 0, 0, 0, 0, 0, 1, 0, 0, 0, 0, 0, 0, 0, 0, 0, 0, 0, 0, 0, 0, 0, 0, 0, 0, 0, 1, 0, 0, 0, 0, 1, 0, 0, 0, 0, 0, 0, 0, 0, 0, 0, 0, 1, 1, 0, 0, 0, 0, 0, 0, 0, 0, 0, 0, 0, 0, 0, 0, 0, 0, 0, 0, 0, 0, 0, 0, 0, 0, 0, 1, 0, 0, 1, 0, 0, 0, 0, 0, 0, 0, 0, 0, 0, 0, 0, 0, 0, 0, 0, 0, 0, 0, 0, 0, 1, 0, 0, 0, 0, 0, 0, 0, 0, 1, 0, 0, 0, 0, 0, 0, 0, 0, 1, 1, 1, 0, 0, 0, 0, 0, 0, 0, 0, 0, 0, 0, 0, 0, 0, 0, 0, 0, 1, 1, 0, 0, 0, 0, 0, 0, 0, 0, 0, 0, 0, 0, 1, 0, 0, 0, 0, 0, 0, 0, 0, 0, 1, 0, 0, 0, 0, 0, 0, 0, 0, 0, 1, 0, 0, 0, 0, 0, 0, 0, 0, 0, 0, 0, 1, 0, 0, 0, 0, 0, 0, 0, 0, 0, 0, 0, 0, 0, 0, 0, 0, 0, 0, 0, 1, 0, 0, 0, 0, 0, 0, 0, 0, 0, 1, 0, 1, 0, 0, 0, 0, 0, 0, 0, 0, 0, 0, 0, 0, 0, 0, 0, 0, 0, 0, 1, 0, 0, 0, 0, 0, 0, 0, 0, 0, 0, 0, 0, 0, 0, 0, 0, 0, 1, 0, 0, 0, 0, 0, 0, 0, 0, 0, 0, 0, 0, 0, 0, 1, 0, 0, 0, 0, 0, 0, 0, 0, 0, 0, 0, 0, 0, 0, 0, 0, 0, 0, 1, 0, 0, 0, 1, 0, 0, 0, 0, 1, 1, 0, 0, 1, 0, 0, 0, 0, 0, 0, 0, 0, 0, 0, 0, 0, 0, 0, 0, 0, 0, 0, 0, 0, 0, 0, 0, 0, 0, 0, 0, 0, 1, 0, 0, 0, 1, 0, 0, 0, 0, 0, 0, 1, 0, 0, 1, 0, 0, 0, 0, 0, 0, 0, 0, 0, 0, 0, 0, 0, 0, 0, 0, 1, 0, 0, 0, 0, 0, 0, 0, 0, 0, 1, 0, 0, 0, 0, 0, 0, 0, 0, 0, 0, 0, 1, 0, 0, 0, 0, 0, 1, 1, 1, 0, 0, 0, 1, 0, 0, 0, 0, 0, 0, 0, 0, 0, 0, 1, 1, 0, 0, 1, 0, 0, 0, 0, 0, 0, 0, 0, 1, 1, 0, 0, 0, 0, 0, 0, 0, 0, 0, 0, 0, 0, 0, 0, 0, 0, 0, 0, 0, 0, 1, 0, 0, 0, 1, 0, 0, 0, 0, 0, 0, 0, 0, 0, 0, 0, 0, 0, 0, 0, 0, 1, 0, 0, 0, 0, 0, 0, 0, 1, 0, 0, 0, 0, 0, 0, 0, 0, 0, 0, 0, 0, 0, 0, 0, 0, 0, 0, 0, 0, 0, 0, 1, 0, 0, 0, 1, 0, 0, 0, 0, 0, 0, 0, 0, 0, 0, 1, 0, 0, 0, 0, 0, 0, 0, 0, 0, 0, 1, 0, 0, 0, 0, 0, 0, 1, 0, 1, 0, 0, 0, 0, 0, 0, 0, 0, 0, 0, 0, 0, 0, 0, 0, 0, 0, 0, 0, 0, 0, 0, 1, 0, 0, 0, 0, 0, 0, 0, 0, 0, 0, 0, 0, 1, 0, 0, 1, 0, 0, 0, 0, 0, 0, 0, 0, 0, 1, 0, 0, 0, 0, 0, 0, 0, 1, 1, 0, 0, 0, 0, 0, 0, 0, 0, 0, 0, 0, 0, 0, 1, 0, 0, 0, 0, 0, 0, 0, 0, 0, 1, 1, 0, 0, 0, 0, 0, 0, 1, 0, 0, 0, 0, 0, 1, 0, 0, 0, 0, 0, 0, 1, 0, 0, 0, 0, 0, 1, 0, 0, 0, 0, 0, 0, 0, 0, 0, 0, 0, 0, 0, 1, 0, 0, 0, 0, 0, 0, 0, 0, 0, 0, 0, 0, 0, 0, 0, 0, 0, 0, 0, 1, 0, 0, 0, 0, 0, 1, 0, 0, 0, 0, 0, 0, 0, 0, 0, 0, 0, 0, 1, 1, 0, 0, 0, 0, 0, 0, 0, 1, 0, 0, 0, 0, 0, 0, 0, 0, 1, 0, 0, 0, 0, 0, 0, 0, 0, 0, 1, 0, 0, 0, 1, 0, 0, 0, 0, 0, 0, 0, 0, 0, 0, 1, 0, 0, 0, 0, 0, 0, 0, 0, 0, 1, 0, 0, 0, 0, 0, 0, 0, 0, 0, 0, 0, 1, 0, 1, 0, 0, 1, 0, 0, 0, 0, 0, 0, 0, 0, 0, 1, 0, 0, 0, 0, 0, 0, 0, 0, 0, 0, 0, 0, 0, 0, 0, 0, 1, 0, 0, 0, 0, 0, 0, 1, 0, 0, 0, 0, 0, 0, 0, 0, 1, 0, 0, 0, 0, 1, 0, 0, 0, 0, 0, 0, 0, 0, 0, 0, 1, 0, 0, 0, 1, 0, 0, 0, 0, 0, 1, 0, 0, 0, 0, 0, 0, 0, 0, 0, 0, 0, 0, 1, 0, 0, 0, 0, 0, 0, 0, 0, 0, 0, 0, 0, 0, 0, 0, 0, 0, 0, 0, 0, 0, 0, 0, 0, 0, 0, 0, 0, 0, 0, 0, 0, 0, 0, 1, 0, 0, 1, 0, 0, 0, 0, 0, 0, 0, 0, 0, 0, 0, 0, 0, 1, 0, 0, 0, 0, 1, 0, 0, 0, 0, 0, 0, 0, 0, 0, 0, 0, 0, 0, 0, 0, 0, 0, 0, 1, 0, 0, 1, 0, 1, 0, 0, 0, 0, 0, 0, 1, 0, 0, 1, 0, 1, 0, 0, 1, 0, 0, 0, 0, 0, 0, 0, 0, 0, 0, 0, 0, 0, 0, 1, 0, 0, 0, 0, 0, 0, 0, 0, 0, 0, 0, 0, 0, 0, 0, 0, 0, 0, 1, 0, 0, 0, 0, 0, 0, 0, 1, 0, 0, 0, 0, 0, 0, 1, 0, 1, 0, 0, 0, 0, 1, 0, 1, 0, 0, 0, 0, 0, 0, 0, 0, 0, 0, 1, 0, 0, 0, 1, 0, 0, 0, 0, 1, 0, 0, 0, 0, 0, 0, 0, 0, 0, 0, 0, 0, 1, 0, 0, 0, 0, 0, 0, 1, 0, 0, 0, 0, 0, 1, 0, 0, 1, 0, 0, 0, 0, 0, 0, 0, 0, 0, 1, 0, 0, 1, 0, 0, 0, 0, 0, 0, 0, 0, 0, 0, 0, 0, 0, 0, 0, 1, 0, 0, 0, 0, 0, 0, 0, 0, 1, 0, 0, 0, 0, 1, 0, 0, 0, 0, 0, 0, 1, 0, 0, 0, 0, 0, 0, 0, 0, 0, 0, 0, 0, 0, 0, 1, 0, 0, 0, 0, 0, 0, 0, 0, 0, 0, 0, 0, 0, 1, 0, 0, 0, 0, 1, 0, 0, 0, 0, 0, 1, 0, 0, 0, 0, 0, 0, 0, 0, 0, 0, 0, 0, 1, 1, 0, 1, 0, 0, 0, 0, 0, 0, 1, 0, 1, 0, 0, 0, 0, 0, 0, 0, 0, 0, 0, 0, 0, 0, 0, 0, 0, 0, 1, 0, 0, 0, 0, 0, 0, 0, 0, 0, 0, 0, 0, 0, 0, 0, 0, 0, 1, 0, 0, 0, 0, 0, 0, 0, 0, 0, 0, 0, 0, 0, 0, 0, 0, 0, 0, 1, 0, 0, 0, 0, 0, 0, 0, 0, 0, 0, 0, 0, 0, 0, 0, 0, 0, 0, 0, 0, 0, 0, 0, 0, 0, 0, 0, 0, 0, 1, 0, 0, 1, 0, 0, 0, 0, 0, 0, 0, 0, 0, 0, 0, 1, 0, 0, 0, 1, 0, 0, 0, 0, 0, 0, 0, 1, 0, 0, 0, 0, 0, 0, 0, 0, 0, 0, 0, 0, 1, 0, 0, 1, 0, 0, 0, 0, 0, 0, 0, 0, 0, 0, 0, 0, 0, 0, 0, 0, 0, 0, 0, 0, 0, 0, 0, 0, 0, 0, 0, 1, 0, 0, 0, 0, 0, 0, 1, 0, 0, 0, 0, 0, 0, 0, 0, 0, 0, 0, 0, 0, 0, 0, 0, 0, 0, 0, 0, 0, 0, 0, 0, 0, 0, 0, 0, 0, 1, 1, 0, 0, 1, 0, 0, 0, 0, 1, 0, 0, 0, 0, 0, 0, 0, 0, 0, 0, 0, 0, 0, 0, 0, 0, 0, 1, 0, 0, 0, 0, 0, 0, 0, 0, 1, 0, 0, 0, 1, 0, 0, 0, 0, 0, 0, 0, 0, 1, 1, 0, 0, 0, 0, 0, 0, 1, 0, 0, 1, 0, 0, 0, 0, 0, 0, 0, 1, 0, 0, 0, 0, 1, 0, 1, 0, 0, 0, 0, 0, 0, 0, 0, 0, 0, 0, 0, 0, 0, 0, 0, 1, 0, 0, 0, 0, 0, 1, 1, 1, 0, 0, 0, 0, 0, 0, 0, 0, 0, 0, 0, 0, 0, 0, 0, 0, 0, 0, 0, 1, 0, 0, 0, 0, 0, 0, 0, 0, 1, 0, 0, 0, 0, 0, 0, 0, 0, 0, 0, 1, 0, 0, 0, 0, 0, 1, 0, 0, 0, 0, 0, 0, 0, 0, 0, 0, 0, 0, 1, 0, 0, 0, 0, 1, 0, 0, 0, 0, 0, 0, 0, 0, 0, 0, 0, 0, 0, 0, 0, 0, 0, 1, 0, 0, 0, 0, 0, 0, 1, 0, 0, 0, 0, 0, 0, 0, 0, 0, 0, 1, 0, 0, 0, 0, 0, 0, 0, 0, 0, 0, 0, 0, 1, 0, 0, 0, 0, 0, 0, 0, 0, 0, 0, 0, 0, 0, 1, 0, 0, 0, 0, 0, 0, 1, 0, 0, 0, 0, 0, 0, 0, 0, 0, 0, 0, 0, 0, 0, 0, 0, 1, 0, 0, 0, 0, 0, 1, 0, 0, 1, 0, 0, 0, 0, 0, 0, 0, 0, 1, 0, 0, 0, 0, 0, 0, 0, 1, 0, 0, 0, 0, 0, 0, 0, 0, 0, 0, 0, 1, 0, 0, 0, 0, 0, 0, 1, 0, 0, 0, 0, 0, 0, 0, 1, 0, 0, 0, 0, 0, 0, 0, 0, 0, 1, 0, 0, 0, 0, 0, 0, 0, 0, 0, 1, 0, 0, 0, 0, 0, 0, 0, 0, 0, 0, 1, 0, 0, 0, 0, 0, 0, 0, 1, 0, 0, 0, 0, 0, 0, 1, 0, 0, 0, 0, 0, 1, 0, 0, 0, 0, 0, 0, 0, 0, 0, 1, 0, 0, 0, 0, 0, 0, 0, 0, 0, 1, 0, 0, 0, 0, 0, 0, 0, 0, 0, 0, 0, 0, 0, 0, 0, 0, 0, 0, 0, 1, 0, 0, 0, 0, 1, 0, 0, 0, 0, 0, 0, 0, 1, 0, 0, 0, 0, 1, 0, 0, 0, 0, 0, 0, 0, 0, 0, 0, 0, 0, 0, 0, 0, 0, 1, 1, 0, 1, 0, 0, 0, 0, 0, 1, 0, 0, 0, 0, 0, 0, 0, 0, 0, 0, 0, 0, 1, 0, 0, 0, 0, 0, 0, 1, 0, 0, 0, 0, 1, 0, 0, 1, 1, 0, 0, 0, 0, 0, 0, 0, 0, 0, 0, 0, 0, 0, 0, 0, 0, 0, 0, 0, 0, 0, 0, 0, 0, 0, 0, 1, 0, 0, 0, 1, 0, 0, 0, 0, 1, 0, 0, 0, 0, 0, 0, 0, 0, 0, 0, 0, 0, 0, 0, 0, 0, 0, 0, 0, 0, 1, 0, 0, 0, 0, 1, 0, 0, 0, 0, 0, 0, 0, 0, 1, 0, 0, 0, 0, 0, 0, 0, 0, 0, 0, 0, 0, 0, 1, 0, 1, 0, 1, 0, 0, 0, 0, 0, 0, 0, 0, 0, 0, 0, 0, 0, 1, 0, 0, 0, 0, 0, 0, 0, 1, 0, 0, 0, 0, 0, 0, 0, 0, 0, 0, 0, 0, 0, 0, 0, 1, 0, 0, 1, 0, 0, 0, 0, 0, 0, 0, 0, 0, 0, 0, 0, 0, 0, 0, 0, 0, 0, 0, 0, 1, 0, 0, 0, 0, 0, 0, 0, 0, 0, 1, 0, 0, 1, 0, 0, 0, 1, 0, 0, 0, 0, 0, 1, 0, 0, 0, 0, 0, 0, 0, 0, 0, 1, 0, 0, 0, 0, 1, 0, 0, 1, 0, 0, 0, 1, 0, 0, 0, 0, 0, 0, 1, 0, 0, 1, 0, 0, 0, 0, 0, 0, 0, 0, 1, 0, 0, 0, 0, 0, 0, 0, 0, 0, 0, 0, 0, 1, 0, 0, 0, 0, 1, 1, 0, 0, 0, 0, 0, 1, 0, 0, 0, 0, 0, 0, 0, 0, 0, 0, 1, 0, 0, 0, 0, 0, 0, 0, 0, 0, 0, 0, 0, 0, 0, 0, 0, 0, 1, 0, 0, 0, 0, 0, 0, 0, 0, 0, 0, 0, 0, 0, 1, 0, 0, 0, 0, 0, 0, 1, 0, 1, 0, 0, 0, 0, 0, 0, 0, 0, 0, 0, 0, 0, 0, 0, 0, 0, 0, 0, 0, 0, 0, 0, 0, 1, 0, 0, 0, 0, 0, 0, 0, 0, 0, 0, 0, 1, 1, 0, 0, 0, 0, 1, 0, 0, 0, 0, 0, 0, 0, 0, 0, 0, 0, 0, 0, 1, 0, 0, 0, 1, 0, 0, 0, 0, 0, 0, 0, 0, 0, 0, 0, 0, 0, 0, 0, 1, 0, 0, 0, 0, 0, 0, 0, 0, 0, 0, 1, 0, 0, 0, 0, 0, 0, 0, 0, 1, 0, 0, 1, 0, 1, 0, 0, 0, 1, 0, 0, 0, 0, 0, 0, 0, 0, 1, 0, 0, 1, 0, 0, 0, 0, 0, 0, 0, 0, 0, 0, 0, 0, 0, 0, 0, 0, 0, 0, 0, 0, 0, 0, 0, 0, 1, 0, 0, 0, 1, 0, 0, 0, 0, 1, 0, 1, 0, 0, 0, 0, 0, 0, 0, 0, 0, 0, 0, 0, 0, 1, 0, 0, 0, 0, 0, 1, 1, 0, 0, 0, 0, 0, 0, 0, 0, 0, 0, 0, 0, 1, 1, 0, 1, 0, 0, 1, 0, 0, 0, 0, 0, 0, 0, 0, 0, 0, 0, 0, 0, 1, 0, 0, 0, 0, 0, 0, 0, 0, 0, 0, 0, 0, 0, 0, 0, 1, 0, 0, 0, 0, 0, 1, 0, 0, 1, 0, 0, 0, 0, 0, 0, 0, 0, 0, 0, 0, 1, 0, 0, 0, 0, 0, 0, 1, 0, 0, 0, 0, 0, 0, 0, 0, 0, 1, 0, 0, 0, 0, 0, 0, 0, 0, 0, 0, 0, 0, 0, 0, 0, 0, 0, 0, 0, 0, 0, 0, 0, 0, 0, 0, 0, 0, 0, 0, 0, 0, 0, 0, 0, 0, 0, 1, 0, 0, 0, 0, 0, 0, 0, 0, 0, 0, 0, 0, 0, 0, 0, 0, 0, 0, 0, 0, 1, 1, 1, 0, 0, 0, 0, 1, 0, 0, 0, 0, 0, 0, 1, 0, 0, 0, 0, 0, 0, 0, 0, 0, 0, 1, 0, 0, 1, 0, 0, 0, 0, 0, 0, 0, 0, 0, 0, 0, 0, 0, 0, 0, 0, 0, 0, 0, 0, 0, 0, 0, 0, 0, 0, 1, 0, 0, 0, 0, 0, 0, 0, 0, 0, 0, 0, 0, 0, 1, 0, 0, 0, 0, 0, 0, 0, 0, 0, 0, 0, 0, 1, 0, 0, 1, 0, 0, 0, 0, 0, 0, 0, 1, 0, 1, 0, 0, 0, 1, 0, 0, 0, 0, 0, 0, 0, 0, 0, 0, 0, 0, 0, 0, 0, 0, 0, 0, 0, 0, 0, 0, 0, 0, 0, 0, 0, 0, 0, 0, 0, 0, 0, 0, 0, 0, 0, 0, 0, 1, 0, 0, 0, 0, 0, 0, 0, 1, 0, 0, 0, 0, 0, 0, 0, 0, 0, 0, 1, 0, 0, 0, 1, 0, 0, 0, 0, 0, 1, 0, 1, 0, 0, 0, 0, 0, 1, 0, 0, 0, 1, 0, 0, 0, 0, 0, 0, 0, 0, 1, 0, 0, 0, 0, 0, 1, 0, 0, 1, 0, 0, 0, 0, 0, 0, 0, 0, 0, 0, 0, 0, 0, 0, 0, 0, 0, 0, 0, 0, 1, 0, 0, 0, 0, 0, 1, 0, 0, 0, 0, 0, 0, 0, 1, 0, 0, 0, 0, 0, 0, 1, 0, 1, 0, 0, 0, 0, 0, 0, 0, 0, 0, 0, 0, 1, 0, 0, 1, 0, 0, 0, 0, 0, 1, 0, 0, 0, 0, 0, 0, 0, 0, 0, 0, 0, 0, 0, 0, 1, 0, 1, 0, 0, 0, 0, 1, 0, 0, 0, 0, 0, 0, 0, 0, 0, 0, 0, 1, 0, 1, 0, 0, 0, 0, 0, 0, 0, 0, 0, 0, 1, 0, 1, 0, 0, 0, 0, 1, 0, 1, 1, 0, 0, 0, 0, 0, 0, 0, 0, 0, 0, 0, 0, 0, 0, 1, 1, 0, 0, 0, 0, 0, 0, 0, 0, 0, 0, 0, 0, 0, 0, 0, 0, 0, 0, 0, 0, 0, 0, 0, 0, 0, 0, 0, 0, 1, 0, 0, 1, 0, 0, 0, 0, 0, 1, 0, 0, 0, 0, 0, 0, 0, 0, 0, 1, 0, 0, 0, 0, 0, 1, 0, 0, 0, 0, 0, 1, 0, 0, 0, 0, 0, 0, 0, 0, 1, 0, 0, 0, 0, 0, 0, 0, 1, 0, 0, 0, 0, 0, 1, 0, 0, 0, 0, 0, 0, 1, 0, 1, 0, 0, 0, 1, 0, 0, 0, 0, 0, 0, 0, 0, 0, 0, 0, 0, 0, 1, 1, 0, 0, 0, 0, 0, 0, 0, 0, 0, 0, 0, 0, 0, 0, 0, 0, 0, 0, 0, 0, 0, 0, 0, 1, 0, 0, 0, 0, 1, 0, 0, 1, 0, 0, 0, 0, 0, 0, 0, 0, 0, 0, 1, 0, 0, 0, 0, 0, 1, 0, 0, 0, 0, 0, 0, 0, 1, 1, 1, 1, 1, 1, 0, 0, 1, 0, 0, 0, 0, 0, 1, 0, 0, 0, 0, 0, 0, 0, 0, 0, 0, 0, 0, 0, 1, 0, 0, 0, 0, 1, 0, 0, 0, 0, 0, 1, 0, 0, 0, 0, 0, 0, 0, 0, 0, 0, 0, 0, 1, 0, 0, 0, 1, 0, 0, 1, 0, 0, 0, 0, 1, 0, 0, 0, 0, 0, 0, 1, 0, 0, 0, 0, 0, 0, 1, 0, 0, 0, 0, 1, 0, 0, 0, 0, 0, 0, 1, 0, 0, 0, 0, 0, 0, 0, 0, 0, 0, 0, 0, 0, 1, 0, 0, 0, 0, 0, 0, 0, 0, 0, 0, 0, 0, 0, 0, 0, 0, 0, 0, 0, 0, 0, 0, 0, 0, 1, 0, 0, 0, 0, 0, 1, 0, 0, 0, 0, 0, 0, 0, 0, 0, 0, 0, 1, 0, 0, 0, 0, 0, 0, 0, 0, 0, 0, 0, 0, 0, 0, 0, 0, 0, 0, 0, 1, 0, 0, 0, 0, 0, 0, 0, 0, 0, 0, 1, 0, 0, 0, 0, 0, 0, 0, 0, 0, 1, 0, 0, 0, 0, 0, 0, 0, 0, 1, 0, 0, 1, 0, 0, 0, 1, 0, 0, 0, 0, 1, 1, 0, 0, 0, 0, 0, 0, 0, 1, 0, 0, 0, 0, 1, 0, 0, 0, 1, 0, 0, 0, 0, 0, 0, 0, 0, 0, 1, 0, 0, 0, 0, 0, 0, 0, 0, 0, 0, 0, 0, 0, 0, 0, 0, 0, 0, 0, 1, 0, 0, 0, 0, 0, 0, 0, 0, 0, 0, 0, 0, 0, 0, 0, 0, 0, 0, 0, 0, 0, 1, 0, 0, 0, 0, 0, 0, 1, 0, 0, 0, 0, 0, 0, 0, 0, 0, 0, 0, 0, 0, 0, 0, 0, 0, 1, 0, 0, 1, 0, 0, 1, 0, 0, 0, 0, 0, 0, 0, 0, 0, 0, 0, 0, 0, 0, 0, 0, 0, 0, 0, 0, 0, 0, 0, 1, 0, 0, 0, 0, 0, 0, 0, 1, 0, 0, 0, 1, 0, 0, 0, 0, 0, 0, 0, 1, 0, 0, 0, 0, 0, 1, 1, 0, 0, 0, 0, 0, 1, 0, 0, 0, 0, 0, 1, 0, 1, 0, 0, 0, 0, 0, 0, 0, 0, 0, 0, 0, 0, 0, 0, 0, 0, 0, 1, 0, 0, 0, 0, 0, 0, 0, 0, 0, 0, 0, 0, 0, 0, 0, 0, 0, 0, 0, 0, 0, 0, 0, 1, 0, 0, 0, 0, 0, 0, 0, 0, 0, 0, 1, 0, 0, 0, 0, 1, 0, 0, 0, 0, 0, 0, 0, 0, 0, 0, 1, 0, 0, 1, 0, 0, 0, 0, 0, 1, 0, 0, 1, 0, 0, 0, 0, 0, 0, 0, 0, 0, 0, 0, 0, 0, 0, 0, 0, 0, 0, 0, 0, 0, 0, 0, 0, 0, 0, 0, 0, 0, 0, 0, 0, 0, 0, 0, 0, 0, 0, 0, 0, 0, 0, 0, 1, 0, 0, 0, 0, 0, 0, 0, 0, 0, 0, 1, 1, 0, 0, 0, 0, 0, 0, 0, 1, 0, 0, 1, 0, 0, 1, 0, 0, 1, 0, 0, 0, 0, 0, 0, 0, 0, 0, 0, 0, 0, 0, 0, 0, 0, 0, 0, 0, 0, 0, 0, 0, 0, 0, 0, 1, 0, 0, 0, 0, 0, 0, 0, 0, 1, 0, 0, 0, 0, 0, 0, 0, 0, 0, 0, 0, 0, 0, 0, 0, 0, 0, 0, 0, 0, 1, 1, 0, 0, 0, 0, 0, 0, 1, 0, 0, 0, 0, 0, 0, 0, 0, 0, 0, 0, 0, 1, 0, 0, 0, 1, 0, 0, 0, 0, 0, 1, 0, 0, 0, 1, 0, 0, 0, 0, 0, 0, 0, 0, 0, 1, 1, 0, 0, 0, 0, 0, 0, 1, 0, 0, 0, 0, 0, 0, 0, 0, 0, 0, 0, 0, 0, 0, 1, 0, 0, 0, 0, 0, 0, 0, 0, 0, 0, 0, 0, 0, 0, 0, 1, 0, 0, 0, 0, 1, 0, 1, 0, 0, 0, 0, 0, 0, 1, 0, 0, 1, 0, 0, 0, 0, 0, 0, 1, 0, 1, 1, 0, 0, 0, 0, 0, 1, 0, 0, 0, 0, 0, 0, 0, 0, 0, 0, 0, 0, 0, 0, 0, 0, 0, 0, 0, 0, 0, 0, 0, 0, 0, 0, 0, 0, 0, 0, 1, 0, 0, 0, 0, 0, 0, 0, 0, 0, 1, 0, 0, 0, 0, 0, 0, 1, 0, 0, 0, 0, 0, 1, 0, 0, 0, 0, 0, 0, 0, 0, 0, 0, 1, 0, 0, 0, 0, 0, 0, 1, 0, 0, 0, 1, 1, 0, 1, 0, 0, 0, 0, 0, 0, 0, 1, 1, 1, 0, 0, 0, 0, 0, 0, 0, 0, 0, 1, 0, 1, 0, 0, 0, 0, 0, 0, 1, 0, 0, 0, 0, 0, 1, 0, 1, 0, 0, 0, 0, 0, 0, 0, 0, 0, 0, 0, 0, 0, 0, 0, 0, 0, 0, 0, 0, 0, 0, 0, 0, 0, 0, 0, 0, 0, 1, 0, 0, 0, 0, 0, 0, 0, 0, 0, 0, 0, 0, 0, 0, 0, 0, 0, 0, 0, 0, 0, 0, 0, 0, 0, 0, 0, 0, 0, 0, 0, 0, 0, 1, 0, 0, 0, 0, 0, 0, 0, 0, 0, 0, 0, 0, 0, 0, 0, 0, 0, 0, 0, 0, 0, 0, 0, 0, 0, 0, 0, 0, 0, 0, 0, 0, 1, 0, 1, 0, 0, 0, 0, 0, 0, 0, 0, 0, 0, 0, 0, 0, 0, 0, 0, 0, 0, 0, 0, 0, 1, 0, 0, 0, 0, 0, 0, 0, 0, 1, 0, 0, 0, 0, 0, 0, 0, 0, 0, 0, 0, 0, 0, 0, 0, 0, 0, 0, 0, 0, 0, 0, 0, 0, 1, 1, 0, 1, 0, 0, 0, 1, 1, 1, 0, 0, 0, 0, 0, 1, 1, 0, 0, 1, 0, 0, 1, 0, 0, 0, 0, 0, 0, 1, 0, 0, 0, 0, 0, 0, 0, 0, 0, 0, 0, 0, 0, 0, 1, 0, 0, 0, 0, 0, 0, 0, 1, 0, 0, 1, 0, 1, 0, 0, 0, 0, 0, 0, 0, 0, 0, 0, 0, 0, 0, 0, 1, 0, 0, 0, 0, 0, 0, 0, 0, 0, 0, 0, 0, 0, 1, 0, 0, 0, 1, 1, 0, 0, 0, 0, 0, 0, 0, 0, 0, 0, 0, 0, 1, 0, 0, 0, 0, 0, 0, 0, 0, 1, 1, 0, 0, 1, 0, 1, 0, 0, 0, 0, 0, 0, 0, 0, 0, 0, 0, 0, 0, 0, 0, 0, 0, 1, 0, 0, 1, 0, 0, 0, 0, 0, 0, 0, 0, 0, 0, 1, 0, 0, 0, 0, 0, 0, 0, 0, 0, 0, 0, 1, 0, 0, 0, 0, 0, 0, 0, 0, 1, 1, 0, 0, 0, 0, 0, 0, 0, 0, 0, 0, 0, 0, 0, 0, 0, 0, 0, 0, 0, 0, 1, 0, 0, 0, 0, 0, 0, 0, 0, 0, 0, 0, 0, 0, 0, 0, 0, 0, 0, 0, 0, 0, 0, 0, 0, 0, 0, 0, 0, 0, 0, 0, 1, 0, 0, 0, 1, 0, 0, 0, 0, 0, 0, 0, 0, 0, 0, 1, 0, 0, 0, 0, 1, 0, 0, 1, 0, 0, 0, 0, 0, 0, 0, 0, 0, 0, 0, 0, 1, 0, 0, 0, 0, 0, 1, 0, 0, 0, 0, 0, 1, 0, 0, 0, 0, 0, 0, 0, 0, 0, 0, 1, 0, 0, 0, 0, 0, 0, 1, 0, 0, 1, 0, 0, 0, 0, 0, 0, 0, 0, 1, 0, 0, 0, 0, 0, 0, 1, 0, 0, 0, 0, 1, 0, 1, 0, 0, 0, 0, 1, 0, 0, 0, 0, 0, 0, 0, 0, 0, 0, 0, 0, 0, 1, 0, 0, 1, 0, 1, 0, 0, 0, 0, 0, 0, 0, 0, 0, 0, 0, 0, 1, 0, 0, 1, 0, 0, 0, 0, 0, 0, 1, 0, 0, 0, 0, 1, 0, 0, 0, 0, 0, 0, 0, 0, 0, 0, 0, 0, 0, 0, 0, 0, 0, 1, 0, 0, 0, 0, 0, 0, 0, 0, 0, 0, 0, 0, 0, 1, 0, 1, 0, 0, 0, 0, 0, 0, 0, 0, 0, 0, 0, 1, 0, 0, 0, 0, 0, 0, 0, 0, 0, 0, 0, 0, 0, 0, 0, 0, 1, 0, 0, 0, 0, 0, 0, 0, 0, 0, 0, 1, 1, 0, 0, 0, 0, 0, 0, 0, 0, 0, 0, 0, 0, 0, 1, 1, 0, 0, 0, 0, 0, 0, 0, 0, 0, 0, 0, 0, 0, 0, 0, 0, 0, 0, 0, 0, 0, 0, 0, 0, 0, 0, 0, 0, 0, 0, 0, 0, 0, 0, 0, 1, 0, 0, 0, 1, 0, 0, 0, 0, 0, 0, 1, 1, 0, 0, 0, 0, 0, 0, 0, 0, 0, 0, 0, 1, 0, 0, 0, 0, 0, 0, 0, 0, 0, 0, 0, 0, 0, 0, 0, 1, 1, 0, 0, 0, 0, 0, 0, 0, 0, 0, 0, 0, 0, 1, 0, 0, 0, 0, 0, 0, 1, 0, 0, 0, 0, 0, 1, 0, 0, 0, 0, 0, 0, 0, 0, 0, 0, 0, 0, 0, 0, 0, 0, 0, 0, 0, 0, 0, 0, 0, 0, 1, 0, 0, 0, 0, 0, 0, 0, 0, 0, 1, 0, 1, 1, 0, 0, 1, 0, 1, 0, 0, 0, 0, 0, 0, 0, 1, 0, 1, 0, 0, 0, 0, 0, 0, 0, 0, 0, 0, 0, 0, 1, 0, 0, 0, 1, 1, 0, 0, 0, 0, 0, 0, 0, 0, 0, 0, 0, 1, 0, 0, 1, 0, 0, 0, 0, 0, 0, 0, 0, 1, 0, 1, 0, 0, 0, 0, 0, 0, 0, 0, 0, 0, 0, 0, 0, 0, 0, 0, 0, 0, 0, 0, 1, 0, 0, 0, 0, 0, 0, 0, 0, 0, 0, 0, 0, 0, 0, 0, 0, 1, 0, 0, 0, 0, 0, 0, 0, 0, 1, 1, 0, 0, 0, 0, 0, 0, 0, 0, 0, 1, 0, 0, 0, 0, 0, 1, 0, 0, 1, 0, 0, 1, 0, 1, 0, 0, 0, 0, 0, 0, 0, 0, 0, 0, 0, 0, 0, 0, 1, 0, 0, 0, 0, 0, 0, 0, 0, 0, 0, 0, 0, 1, 1, 0, 1, 0, 0, 0, 0, 0, 0, 0, 0, 1, 0, 0, 0, 0, 1, 0, 0, 0, 0, 0, 1, 0, 0, 0, 0, 0, 0, 0, 0, 1, 0, 0, 0, 0, 0, 0, 0, 0, 0, 0, 0, 0, 0, 0, 0, 0, 1, 0, 1, 1, 0, 0, 0, 1, 1, 0, 0, 0, 0, 0, 0, 0, 0, 0, 0, 0, 0, 0, 0, 1, 0, 0, 0, 0, 0, 0, 0, 1, 0, 0, 0, 0, 0, 0, 0, 0, 0, 0, 0, 0, 0, 0, 0, 0, 0, 0, 1, 0, 0, 0, 0, 1, 0, 0, 0, 0, 0, 0, 0, 0, 0, 0, 0, 0, 0, 0, 0, 1, 0, 1, 0, 0, 0, 0, 0]\n"
          ],
          "name": "stdout"
        }
      ]
    },
    {
      "cell_type": "code",
      "metadata": {
        "id": "IKS1PZHenZFi",
        "colab_type": "code",
        "colab": {
          "base_uri": "https://localhost:8080/",
          "height": 543
        },
        "outputId": "b1127463-e49b-4118-894d-3a8c7705cce8"
      },
      "source": [
        "# x = [10 for i in train_y if i>= 11 and i<= 12]\n",
        "plt.hist(train_y, 20)\n",
        "plt.xlabel('binding values') \n",
        "plt.ylabel('numbers')\n",
        "plt.title('distribution of binding values in davis dataset before resampling') \n",
        "plt.savefig(\"f.jpg\")\n",
        "plt.show() \n",
        "plt.show()\n",
        "label_f_x = label_f / np.linalg.norm(label_f)\n",
        "\n",
        "plt.hist(test_y, 10)\n",
        "plt.show()"
      ],
      "execution_count": 108,
      "outputs": [
        {
          "output_type": "display_data",
          "data": {
            "image/png": "[encoded data removed]",
            "text/plain": [
              "<Figure size 432x288 with 1 Axes>"
            ]
          },
          "metadata": {
            "tags": [],
            "needs_background": "light"
          }
        },
        {
          "output_type": "display_data",
          "data": {
            "image/png": "[encoded data removed]",
            "text/plain": [
              "<Figure size 432x288 with 1 Axes>"
            ]
          },
          "metadata": {
            "tags": [],
            "needs_background": "light"
          }
        }
      ]
    },
    {
      "cell_type": "code",
      "metadata": {
        "id": "f8SbfxAnj1Pi",
        "colab_type": "code",
        "colab": {}
      },
      "source": [
        "torch.save(final_model.state_dict(), \"/content/myModel_final_d\")"
      ],
      "execution_count": 93,
      "outputs": []
    },
    {
      "cell_type": "code",
      "metadata": {
        "id": "0jvoWkNcgtz5",
        "colab_type": "code",
        "colab": {
          "base_uri": "https://localhost:8080/",
          "height": 67
        },
        "outputId": "319b42b7-3c5f-49ed-bd28-10c0f745a273"
      },
      "source": [
        "\n",
        "final_model = MyModel()\n",
        "final_model.load_state_dict(torch.load(\"/content/myModel_final_d\"))\n",
        "# final_model.eval()\n",
        "y_true = []\n",
        "y_pred = []\n",
        "device = torch.device(\"cuda\")\n",
        "final_model.to(device)\n",
        "\n",
        "with torch.no_grad():\n",
        "    final_model.eval()\n",
        "    for batch_idx1, ((datap, labels), (datas, labels)) in enumerate(zip(test_loader_p, test_loader_s)):  \n",
        "        datap = datap.to(device)\n",
        "        datas = datas.to(device)\n",
        "        target = target.float()\n",
        "        target = target.to(device)      \n",
        "        outputs = final_model(datap, datas) \n",
        "        y_true += labels.tolist()\n",
        "        y_pred += outputs.tolist()\n",
        "y_true = np.array(y_true)\n",
        "y_pred = np.array(y_pred)\n",
        "print(len(y_true))\n",
        "print(len(y_pred))\n",
        "mse = np.square(np.subtract(y_true,y_pred)).mean() \n",
        "print('MSE: ', mse)\n"
      ],
      "execution_count": 94,
      "outputs": [
        {
          "output_type": "stream",
          "text": [
            "4864\n",
            "4864\n",
            "MSE:  1.2707435469640374\n"
          ],
          "name": "stdout"
        }
      ]
    },
    {
      "cell_type": "code",
      "metadata": {
        "id": "pI9TGsI7HpbF",
        "colab_type": "code",
        "colab": {}
      },
      "source": [
        ""
      ],
      "execution_count": null,
      "outputs": []
    }
  ]
}